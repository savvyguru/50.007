{
  "nbformat": 4,
  "nbformat_minor": 0,
  "metadata": {
    "colab": {
      "name": "homework2.ipynb",
      "provenance": []
    },
    "kernelspec": {
      "name": "python3",
      "display_name": "Python 3"
    }
  },
  "cells": [
    {
      "cell_type": "code",
      "metadata": {
        "id": "YVV5PTwmTbpv",
        "outputId": "10ca0d65-0a95-457f-cee5-90abc31be440",
        "colab": {
          "base_uri": "https://localhost:8080/"
        }
      },
      "source": [
        "! pip install libsvm"
      ],
      "execution_count": null,
      "outputs": [
        {
          "output_type": "stream",
          "text": [
            "Requirement already satisfied: libsvm in /usr/local/lib/python3.6/dist-packages (3.23.0.4)\n"
          ],
          "name": "stdout"
        }
      ]
    },
    {
      "cell_type": "code",
      "metadata": {
        "id": "6i8iRmrUTtMh"
      },
      "source": [
        "from libsvm.svmutil import *"
      ],
      "execution_count": null,
      "outputs": []
    },
    {
      "cell_type": "code",
      "metadata": {
        "id": "KDY-j2PYH9oV",
        "outputId": "211b361d-f37b-4f01-9340-9dd1e823a065",
        "colab": {
          "base_uri": "https://localhost:8080/"
        }
      },
      "source": [
        "!git clone https://github.com/savvyguru/50.007.git"
      ],
      "execution_count": null,
      "outputs": [
        {
          "output_type": "stream",
          "text": [
            "fatal: destination path '50.007' already exists and is not an empty directory.\n"
          ],
          "name": "stdout"
        }
      ]
    },
    {
      "cell_type": "code",
      "metadata": {
        "id": "NY6XCe2eI-4u",
        "outputId": "eaf9e96e-513a-4068-d3fa-d23ed3cc17c8",
        "colab": {
          "base_uri": "https://localhost:8080/"
        }
      },
      "source": [
        "! unzip 50.007/sonar.zip\n",
        " "
      ],
      "execution_count": null,
      "outputs": [
        {
          "output_type": "stream",
          "text": [
            "Archive:  50.007/sonar.zip\n",
            "replace sonar/test.txt? [y]es, [n]o, [A]ll, [N]one, [r]ename: NO\n"
          ],
          "name": "stdout"
        }
      ]
    },
    {
      "cell_type": "code",
      "metadata": {
        "id": "8ouQnWrwJhx2"
      },
      "source": [
        "train_y,train_x = svm_read_problem(\"sonar/training.txt\")"
      ],
      "execution_count": null,
      "outputs": []
    },
    {
      "cell_type": "code",
      "metadata": {
        "id": "W9ih8ONuKx6F"
      },
      "source": [
        "test_y,test_x = svm_read_problem(\"sonar/test.txt\")"
      ],
      "execution_count": null,
      "outputs": []
    },
    {
      "cell_type": "markdown",
      "metadata": {
        "id": "MBJEBPcsNtr2"
      },
      "source": [
        ""
      ]
    },
    {
      "cell_type": "markdown",
      "metadata": {
        "id": "id2z9UbtNANl"
      },
      "source": [
        "Train SVM model for 4 different kernel types "
      ]
    },
    {
      "cell_type": "code",
      "metadata": {
        "id": "ECURneIgKXn_"
      },
      "source": [
        "linear = svm_train(train_y, train_x, '-c 4 -t 0')\n",
        "poly = svm_train(train_y, train_x, '-c 4 -t 1')\n",
        "rbf = svm_train(train_y, train_x, '-c 4 -t 2')\n",
        "sigmoid = svm_train(train_y, train_x, '-c 4 -t 3')"
      ],
      "execution_count": null,
      "outputs": []
    },
    {
      "cell_type": "markdown",
      "metadata": {
        "id": "EHKZ5p9jNP7e"
      },
      "source": [
        "**Accuracy of SVM with linear kernel**"
      ]
    },
    {
      "cell_type": "code",
      "metadata": {
        "id": "zVOkw_PrKnB1",
        "outputId": "60ba831c-612d-4731-9819-06aa1ccfc1ab",
        "colab": {
          "base_uri": "https://localhost:8080/"
        }
      },
      "source": [
        "p_label, p_acc, p_val = svm_predict(test_y, test_x, linear)"
      ],
      "execution_count": null,
      "outputs": [
        {
          "output_type": "stream",
          "text": [
            "Accuracy = 77.7778% (49/63) (classification)\n"
          ],
          "name": "stdout"
        }
      ]
    },
    {
      "cell_type": "markdown",
      "metadata": {
        "id": "8uOFxnjpNcl5"
      },
      "source": [
        "**Accuracy of SVM with polynomial kernel**"
      ]
    },
    {
      "cell_type": "code",
      "metadata": {
        "id": "Cv-wC-wtM3k7",
        "outputId": "bd8a53b4-f241-48db-fef1-011a408ecd5e",
        "colab": {
          "base_uri": "https://localhost:8080/"
        }
      },
      "source": [
        "p_label, p_acc, p_val = svm_predict(test_y, test_x, poly)"
      ],
      "execution_count": null,
      "outputs": [
        {
          "output_type": "stream",
          "text": [
            "Accuracy = 76.1905% (48/63) (classification)\n"
          ],
          "name": "stdout"
        }
      ]
    },
    {
      "cell_type": "markdown",
      "metadata": {
        "id": "lwgieHxkNhOg"
      },
      "source": [
        "**Accuracy of SVM with radial basis function kernel**"
      ]
    },
    {
      "cell_type": "code",
      "metadata": {
        "id": "UQMcVTI1M3wT",
        "outputId": "ee85082f-23ec-4919-b159-1ead386fbf13",
        "colab": {
          "base_uri": "https://localhost:8080/"
        }
      },
      "source": [
        "p_label, p_acc, p_val = svm_predict(test_y, test_x, rbf)"
      ],
      "execution_count": null,
      "outputs": [
        {
          "output_type": "stream",
          "text": [
            "Accuracy = 87.3016% (55/63) (classification)\n"
          ],
          "name": "stdout"
        }
      ]
    },
    {
      "cell_type": "markdown",
      "metadata": {
        "id": "oUdz6nWcNlYj"
      },
      "source": [
        "**Accuracy of SVM with sigmoid kernel**"
      ]
    },
    {
      "cell_type": "code",
      "metadata": {
        "id": "C3tlTTeaM34s",
        "outputId": "dafa4a02-d19e-465c-ea17-a70f84ccb609",
        "colab": {
          "base_uri": "https://localhost:8080/"
        }
      },
      "source": [
        "p_label, p_acc, p_val = svm_predict(test_y, test_x, sigmoid)"
      ],
      "execution_count": null,
      "outputs": [
        {
          "output_type": "stream",
          "text": [
            "Accuracy = 80.9524% (51/63) (classification)\n"
          ],
          "name": "stdout"
        }
      ]
    },
    {
      "cell_type": "markdown",
      "metadata": {
        "id": "wcus_6oQN2-Q"
      },
      "source": [
        "The best choice for kernel is radial basis function as it has the highest accuracy"
      ]
    }
  ]
}